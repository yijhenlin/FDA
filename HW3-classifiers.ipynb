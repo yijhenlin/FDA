{
 "cells": [
  {
   "cell_type": "markdown",
   "metadata": {},
   "source": [
    "預測趨勢依Close Price做評估\n",
    "\n",
    "參考資料:\n",
    "\n",
    "https://scikit-learn.org/stable/modules/generated/sklearn.linear_model.LogisticRegression.html\n",
    "\n",
    "https://scikit-learn.org/stable/modules/generated/sklearn.svm.SVC.html\n",
    "\n",
    "https://keras.io/models/sequential/"
   ]
  },
  {
   "cell_type": "code",
   "execution_count": 1,
   "metadata": {},
   "outputs": [
    {
     "name": "stderr",
     "output_type": "stream",
     "text": [
      "Using TensorFlow backend.\n"
     ]
    }
   ],
   "source": [
    "import matplotlib.pyplot as plt\n",
    "import numpy as np\n",
    "import pandas as pd\n",
    "from sklearn import linear_model, metrics, model_selection\n",
    "import random\n",
    "from keras import models, layers, optimizers, regularizers\n",
    "from sklearn import preprocessing\n",
    "import tensorflow as tf\n",
    "from tqdm import tqdm\n",
    "from sklearn import datasets"
   ]
  },
  {
   "cell_type": "code",
   "execution_count": 2,
   "metadata": {},
   "outputs": [],
   "source": [
    "test_data = pd.read_csv('test.csv')\n",
    "train_data = pd.read_csv('train.csv')"
   ]
  },
  {
   "cell_type": "code",
   "execution_count": 3,
   "metadata": {
    "scrolled": true
   },
   "outputs": [
    {
     "data": {
      "text/html": [
       "<div>\n",
       "<style scoped>\n",
       "    .dataframe tbody tr th:only-of-type {\n",
       "        vertical-align: middle;\n",
       "    }\n",
       "\n",
       "    .dataframe tbody tr th {\n",
       "        vertical-align: top;\n",
       "    }\n",
       "\n",
       "    .dataframe thead th {\n",
       "        text-align: right;\n",
       "    }\n",
       "</style>\n",
       "<table border=\"1\" class=\"dataframe\">\n",
       "  <thead>\n",
       "    <tr style=\"text-align: right;\">\n",
       "      <th></th>\n",
       "      <th>Date</th>\n",
       "      <th>Open Price</th>\n",
       "      <th>Close Price</th>\n",
       "      <th>High Price</th>\n",
       "      <th>Low Price</th>\n",
       "      <th>Volume</th>\n",
       "    </tr>\n",
       "  </thead>\n",
       "  <tbody>\n",
       "    <tr>\n",
       "      <th>0</th>\n",
       "      <td>02-Jan-2009</td>\n",
       "      <td>902.99</td>\n",
       "      <td>931.80</td>\n",
       "      <td>934.73</td>\n",
       "      <td>899.35</td>\n",
       "      <td>4048270080</td>\n",
       "    </tr>\n",
       "    <tr>\n",
       "      <th>1</th>\n",
       "      <td>05-Jan-2009</td>\n",
       "      <td>929.17</td>\n",
       "      <td>927.45</td>\n",
       "      <td>936.63</td>\n",
       "      <td>919.53</td>\n",
       "      <td>5413910016</td>\n",
       "    </tr>\n",
       "    <tr>\n",
       "      <th>2</th>\n",
       "      <td>06-Jan-2009</td>\n",
       "      <td>931.17</td>\n",
       "      <td>934.70</td>\n",
       "      <td>943.85</td>\n",
       "      <td>927.28</td>\n",
       "      <td>5392620032</td>\n",
       "    </tr>\n",
       "    <tr>\n",
       "      <th>3</th>\n",
       "      <td>07-Jan-2009</td>\n",
       "      <td>927.45</td>\n",
       "      <td>906.65</td>\n",
       "      <td>927.45</td>\n",
       "      <td>902.37</td>\n",
       "      <td>4704940032</td>\n",
       "    </tr>\n",
       "    <tr>\n",
       "      <th>4</th>\n",
       "      <td>08-Jan-2009</td>\n",
       "      <td>905.73</td>\n",
       "      <td>909.73</td>\n",
       "      <td>910.00</td>\n",
       "      <td>896.81</td>\n",
       "      <td>4991549952</td>\n",
       "    </tr>\n",
       "  </tbody>\n",
       "</table>\n",
       "</div>"
      ],
      "text/plain": [
       "          Date  Open Price  Close Price  High Price  Low Price      Volume\n",
       "0  02-Jan-2009      902.99       931.80      934.73     899.35  4048270080\n",
       "1  05-Jan-2009      929.17       927.45      936.63     919.53  5413910016\n",
       "2  06-Jan-2009      931.17       934.70      943.85     927.28  5392620032\n",
       "3  07-Jan-2009      927.45       906.65      927.45     902.37  4704940032\n",
       "4  08-Jan-2009      905.73       909.73      910.00     896.81  4991549952"
      ]
     },
     "execution_count": 3,
     "metadata": {},
     "output_type": "execute_result"
    }
   ],
   "source": [
    "train_data.head()"
   ]
  },
  {
   "cell_type": "code",
   "execution_count": 4,
   "metadata": {},
   "outputs": [
    {
     "data": {
      "text/html": [
       "<div>\n",
       "<style scoped>\n",
       "    .dataframe tbody tr th:only-of-type {\n",
       "        vertical-align: middle;\n",
       "    }\n",
       "\n",
       "    .dataframe tbody tr th {\n",
       "        vertical-align: top;\n",
       "    }\n",
       "\n",
       "    .dataframe thead th {\n",
       "        text-align: right;\n",
       "    }\n",
       "</style>\n",
       "<table border=\"1\" class=\"dataframe\">\n",
       "  <thead>\n",
       "    <tr style=\"text-align: right;\">\n",
       "      <th></th>\n",
       "      <th>Date</th>\n",
       "      <th>Open Price</th>\n",
       "      <th>Close Price</th>\n",
       "      <th>High Price</th>\n",
       "      <th>Low Price</th>\n",
       "      <th>Volume</th>\n",
       "    </tr>\n",
       "  </thead>\n",
       "  <tbody>\n",
       "    <tr>\n",
       "      <th>0</th>\n",
       "      <td>02-Jan-2018</td>\n",
       "      <td>2683.73</td>\n",
       "      <td>2695.81</td>\n",
       "      <td>2695.89</td>\n",
       "      <td>2682.36</td>\n",
       "      <td>1846463232</td>\n",
       "    </tr>\n",
       "    <tr>\n",
       "      <th>1</th>\n",
       "      <td>03-Jan-2018</td>\n",
       "      <td>2697.85</td>\n",
       "      <td>2713.06</td>\n",
       "      <td>2714.37</td>\n",
       "      <td>2697.77</td>\n",
       "      <td>2090595328</td>\n",
       "    </tr>\n",
       "    <tr>\n",
       "      <th>2</th>\n",
       "      <td>04-Jan-2018</td>\n",
       "      <td>2719.31</td>\n",
       "      <td>2723.99</td>\n",
       "      <td>2729.29</td>\n",
       "      <td>2719.07</td>\n",
       "      <td>2100767744</td>\n",
       "    </tr>\n",
       "    <tr>\n",
       "      <th>3</th>\n",
       "      <td>05-Jan-2018</td>\n",
       "      <td>2731.33</td>\n",
       "      <td>2743.15</td>\n",
       "      <td>2743.45</td>\n",
       "      <td>2727.92</td>\n",
       "      <td>1918869120</td>\n",
       "    </tr>\n",
       "    <tr>\n",
       "      <th>4</th>\n",
       "      <td>08-Jan-2018</td>\n",
       "      <td>2742.67</td>\n",
       "      <td>2747.71</td>\n",
       "      <td>2748.51</td>\n",
       "      <td>2737.60</td>\n",
       "      <td>1894823936</td>\n",
       "    </tr>\n",
       "  </tbody>\n",
       "</table>\n",
       "</div>"
      ],
      "text/plain": [
       "          Date  Open Price  Close Price  High Price  Low Price      Volume\n",
       "0  02-Jan-2018     2683.73      2695.81     2695.89    2682.36  1846463232\n",
       "1  03-Jan-2018     2697.85      2713.06     2714.37    2697.77  2090595328\n",
       "2  04-Jan-2018     2719.31      2723.99     2729.29    2719.07  2100767744\n",
       "3  05-Jan-2018     2731.33      2743.15     2743.45    2727.92  1918869120\n",
       "4  08-Jan-2018     2742.67      2747.71     2748.51    2737.60  1894823936"
      ]
     },
     "execution_count": 4,
     "metadata": {},
     "output_type": "execute_result"
    }
   ],
   "source": [
    "test_data.head()"
   ]
  },
  {
   "cell_type": "code",
   "execution_count": 5,
   "metadata": {
    "scrolled": true
   },
   "outputs": [
    {
     "data": {
      "text/plain": [
       "Date           0\n",
       "Open Price     0\n",
       "Close Price    0\n",
       "High Price     0\n",
       "Low Price      0\n",
       "Volume         0\n",
       "dtype: int64"
      ]
     },
     "execution_count": 5,
     "metadata": {},
     "output_type": "execute_result"
    }
   ],
   "source": [
    "test_data.isnull().sum()"
   ]
  },
  {
   "cell_type": "code",
   "execution_count": 6,
   "metadata": {
    "scrolled": true
   },
   "outputs": [
    {
     "data": {
      "text/plain": [
       "Date           0\n",
       "Open Price     0\n",
       "Close Price    0\n",
       "High Price     0\n",
       "Low Price      0\n",
       "Volume         0\n",
       "dtype: int64"
      ]
     },
     "execution_count": 6,
     "metadata": {},
     "output_type": "execute_result"
    }
   ],
   "source": [
    "train_data.isnull().sum()"
   ]
  },
  {
   "cell_type": "markdown",
   "metadata": {},
   "source": [
    "資料沒有遺漏值，不需做遺漏值填補"
   ]
  },
  {
   "cell_type": "code",
   "execution_count": 7,
   "metadata": {},
   "outputs": [],
   "source": [
    "test_data = test_data.drop(columns = \"Date\")\n",
    "train_data = train_data.drop(columns = \"Date\")"
   ]
  },
  {
   "cell_type": "code",
   "execution_count": 8,
   "metadata": {
    "scrolled": true
   },
   "outputs": [
    {
     "name": "stdout",
     "output_type": "stream",
     "text": [
      "<class 'pandas.core.frame.DataFrame'>\n",
      "RangeIndex: 2264 entries, 0 to 2263\n",
      "Data columns (total 5 columns):\n",
      "Open Price     2264 non-null float64\n",
      "Close Price    2264 non-null float64\n",
      "High Price     2264 non-null float64\n",
      "Low Price      2264 non-null float64\n",
      "Volume         2264 non-null int64\n",
      "dtypes: float64(4), int64(1)\n",
      "memory usage: 88.5 KB\n"
     ]
    }
   ],
   "source": [
    "train_data.info()"
   ]
  },
  {
   "cell_type": "code",
   "execution_count": 9,
   "metadata": {},
   "outputs": [
    {
     "name": "stdout",
     "output_type": "stream",
     "text": [
      "<class 'pandas.core.frame.DataFrame'>\n",
      "RangeIndex: 252 entries, 0 to 251\n",
      "Data columns (total 5 columns):\n",
      "Open Price     252 non-null float64\n",
      "Close Price    252 non-null float64\n",
      "High Price     252 non-null float64\n",
      "Low Price      252 non-null float64\n",
      "Volume         252 non-null int64\n",
      "dtypes: float64(4), int64(1)\n",
      "memory usage: 9.9 KB\n"
     ]
    }
   ],
   "source": [
    "test_data.info()"
   ]
  },
  {
   "cell_type": "code",
   "execution_count": 10,
   "metadata": {},
   "outputs": [],
   "source": [
    "def split(train_data, test_data):\n",
    "    x_train = train_data.loc[:, train_data.columns != 'Close Price']\n",
    "    y_train = train_data['Close Price']\n",
    "    x_test = test_data.loc[:, test_data.columns != 'Close Price']\n",
    "    y_test = test_data['Close Price']\n",
    "    return x_train, y_train, x_test, y_test"
   ]
  },
  {
   "cell_type": "code",
   "execution_count": 11,
   "metadata": {},
   "outputs": [],
   "source": [
    "def plot_feature(data, feature_name):\n",
    "    plt.figure(figsize=(10, 3))\n",
    "    plt.scatter(data[feature_name], data['Close Price'])\n",
    "    plt.xlabel(feature_name)\n",
    "    plt.ylabel('Close Price')\n",
    "    plt.show()"
   ]
  },
  {
   "cell_type": "code",
   "execution_count": 12,
   "metadata": {
    "scrolled": true
   },
   "outputs": [
    {
     "data": {
      "image/png": "[encoded data removed]",
      "text/plain": [
       "<Figure size 720x216 with 1 Axes>"
      ]
     },
     "metadata": {
      "needs_background": "light"
     },
     "output_type": "display_data"
    },
    {
     "data": {
      "image/png": "[encoded data removed]",
      "text/plain": [
       "<Figure size 720x216 with 1 Axes>"
      ]
     },
     "metadata": {
      "needs_background": "light"
     },
     "output_type": "display_data"
    },
    {
     "data": {
      "image/png": "[encoded data removed]",
      "text/plain": [
       "<Figure size 720x216 with 1 Axes>"
      ]
     },
     "metadata": {
      "needs_background": "light"
     },
     "output_type": "display_data"
    },
    {
     "data": {
      "image/png": "[encoded data removed]",
      "text/plain": [
       "<Figure size 720x216 with 1 Axes>"
      ]
     },
     "metadata": {
      "needs_background": "light"
     },
     "output_type": "display_data"
    },
    {
     "data": {
      "image/png": "[encoded data removed]",
      "text/plain": [
       "<Figure size 720x216 with 1 Axes>"
      ]
     },
     "metadata": {
      "needs_background": "light"
     },
     "output_type": "display_data"
    },
    {
     "data": {
      "image/png": "[encoded data removed]",
      "text/plain": [
       "<Figure size 720x216 with 1 Axes>"
      ]
     },
     "metadata": {
      "needs_background": "light"
     },
     "output_type": "display_data"
    },
    {
     "data": {
      "image/png": "[encoded data removed]",
      "text/plain": [
       "<Figure size 720x216 with 1 Axes>"
      ]
     },
     "metadata": {
      "needs_background": "light"
     },
     "output_type": "display_data"
    },
    {
     "data": {
      "image/png": "[encoded data removed]",
      "text/plain": [
       "<Figure size 720x216 with 1 Axes>"
      ]
     },
     "metadata": {
      "needs_background": "light"
     },
     "output_type": "display_data"
    }
   ],
   "source": [
    "#Open Price\tClose Price\tHigh Price\tLow Price\tVolume\n",
    "plot_feature(train_data, 'Open Price')\n",
    "plot_feature(train_data, 'High Price')\n",
    "plot_feature(train_data, 'Low Price')\n",
    "plot_feature(train_data, 'Volume')\n",
    "plot_feature(test_data, 'Open Price')\n",
    "plot_feature(test_data, 'High Price')\n",
    "plot_feature(test_data, 'Low Price')\n",
    "plot_feature(test_data, 'Volume')"
   ]
  },
  {
   "cell_type": "code",
   "execution_count": 13,
   "metadata": {},
   "outputs": [],
   "source": [
    "def evaluate(model, x_train, y_train, x_test, y_test):\n",
    "    train_preds = model.predict(x_train)\n",
    "    test_preds = model.predict(x_test)\n",
    "    train_acc = metrics.accuracy_score(y_train, train_preds)\n",
    "    test_acc = metrics.accuracy_score(y_test, test_preds)\n",
    "    print('Train accuracy: %s' % train_acc)\n",
    "    print('Test accuracy: %s' % test_acc)"
   ]
  },
  {
   "cell_type": "markdown",
   "metadata": {},
   "source": [
    "## Logistic Regression Model"
   ]
  },
  {
   "cell_type": "code",
   "execution_count": 14,
   "metadata": {
    "scrolled": true
   },
   "outputs": [
    {
     "name": "stdout",
     "output_type": "stream",
     "text": [
      "Train accuracy: 0.004858657243816254\n",
      "Test accuracy: 0.0\n"
     ]
    }
   ],
   "source": [
    "from sklearn.linear_model import LogisticRegression\n",
    "x_train, y_train, x_test, y_test = split(train_data, test_data)\n",
    "clf = LogisticRegression(solver='lbfgs', multi_class = 'auto').fit(x_train.astype('int'), y_train.astype('int'))\n",
    "evaluate(clf, x_train.astype('int'), y_train.astype('int'), x_test.astype('int'), y_test.astype('int'))"
   ]
  },
  {
   "cell_type": "code",
   "execution_count": 45,
   "metadata": {
    "scrolled": true
   },
   "outputs": [
    {
     "name": "stdout",
     "output_type": "stream",
     "text": [
      "Train accuracy: 0.0030918727915194345\n",
      "Test accuracy: 0.0\n"
     ]
    }
   ],
   "source": [
    "clf = LogisticRegression(solver='lbfgs', multi_class = 'auto').fit(x_train.round(), y_train.round())\n",
    "evaluate(clf, x_train.round(), y_train.round(), x_test.round(), y_test.round())"
   ]
  },
  {
   "cell_type": "code",
   "execution_count": 98,
   "metadata": {},
   "outputs": [],
   "source": [
    "z_train = x_train.drop(columns = \"Low Price\")\n",
    "z_test = x_test.drop(columns = \"Low Price\")"
   ]
  },
  {
   "cell_type": "code",
   "execution_count": 72,
   "metadata": {
    "scrolled": true
   },
   "outputs": [
    {
     "name": "stdout",
     "output_type": "stream",
     "text": [
      "Train accuracy: 0.0030918727915194345\n",
      "Test accuracy: 0.0\n"
     ]
    }
   ],
   "source": [
    "clf = LogisticRegression(solver='lbfgs', multi_class = 'auto').fit(z_train.round(), y_train.round())\n",
    "evaluate(clf, z_train.round(), y_train.round(), z_test.round(), y_test.round())"
   ]
  },
  {
   "cell_type": "code",
   "execution_count": 99,
   "metadata": {},
   "outputs": [
    {
     "name": "stdout",
     "output_type": "stream",
     "text": [
      "Train accuracy: 0.004858657243816254\n",
      "Test accuracy: 0.0\n"
     ]
    }
   ],
   "source": [
    "clf = LogisticRegression(solver='lbfgs', multi_class = 'auto').fit(z_train.astype('int'), y_train.astype('int'))\n",
    "evaluate(clf, z_train.astype('int'), y_train.astype('int'), z_test.astype('int'), y_test.astype('int'))"
   ]
  },
  {
   "cell_type": "code",
   "execution_count": 58,
   "metadata": {},
   "outputs": [],
   "source": [
    "z_train = x_train.drop(columns = \"High Price\")\n",
    "z_test = x_test.drop(columns = \"High Price\")"
   ]
  },
  {
   "cell_type": "code",
   "execution_count": 59,
   "metadata": {
    "scrolled": true
   },
   "outputs": [
    {
     "name": "stdout",
     "output_type": "stream",
     "text": [
      "Train accuracy: 0.0030918727915194345\n",
      "Test accuracy: 0.0\n"
     ]
    }
   ],
   "source": [
    "clf = LogisticRegression(solver='lbfgs', multi_class = 'auto').fit(z_train.round(), y_train.round())\n",
    "evaluate(clf, z_train.round(), y_train.round(), z_test.round(), y_test.round())"
   ]
  },
  {
   "cell_type": "code",
   "execution_count": 60,
   "metadata": {},
   "outputs": [],
   "source": [
    "z_train = x_train.drop(columns = \"Open Price\")\n",
    "z_test = x_test.drop(columns = \"Open Price\")"
   ]
  },
  {
   "cell_type": "code",
   "execution_count": 61,
   "metadata": {
    "scrolled": true
   },
   "outputs": [
    {
     "name": "stdout",
     "output_type": "stream",
     "text": [
      "Train accuracy: 0.0030918727915194345\n",
      "Test accuracy: 0.0\n"
     ]
    }
   ],
   "source": [
    "clf = LogisticRegression(solver='lbfgs', multi_class = 'auto').fit(z_train.round(), y_train.round())\n",
    "evaluate(clf, z_train.round(), y_train.round(), z_test.round(), y_test.round())"
   ]
  },
  {
   "cell_type": "code",
   "execution_count": 81,
   "metadata": {},
   "outputs": [],
   "source": [
    "z_train = x_train.drop(columns = \"Open Price\")\n",
    "z_test = x_test.drop(columns = \"Open Price\")\n",
    "z_train = z_train.drop(columns = \"Low Price\")\n",
    "z_test = z_test.drop(columns = \"Low Price\")"
   ]
  },
  {
   "cell_type": "code",
   "execution_count": 82,
   "metadata": {},
   "outputs": [
    {
     "name": "stdout",
     "output_type": "stream",
     "text": [
      "Train accuracy: 0.0030918727915194345\n",
      "Test accuracy: 0.0\n"
     ]
    }
   ],
   "source": [
    "clf = LogisticRegression(solver='lbfgs', multi_class = 'auto').fit(z_train.round(), y_train.round())\n",
    "evaluate(clf, z_train.round(), y_train.round(), z_test.round(), y_test.round())"
   ]
  },
  {
   "cell_type": "code",
   "execution_count": 100,
   "metadata": {},
   "outputs": [],
   "source": [
    "z_train = x_train.drop(columns = \"Volume\")\n",
    "z_test = x_test.drop(columns = \"Volume\")"
   ]
  },
  {
   "cell_type": "code",
   "execution_count": 66,
   "metadata": {},
   "outputs": [
    {
     "name": "stderr",
     "output_type": "stream",
     "text": [
      "C:\\Users\\yj_li\\AppData\\Local\\Programs\\Python\\Python37\\lib\\site-packages\\sklearn\\linear_model\\logistic.py:758: ConvergenceWarning: lbfgs failed to converge. Increase the number of iterations.\n",
      "  \"of iterations.\", ConvergenceWarning)\n"
     ]
    },
    {
     "name": "stdout",
     "output_type": "stream",
     "text": [
      "Train accuracy: 0.008392226148409895\n",
      "Test accuracy: 0.0\n"
     ]
    }
   ],
   "source": [
    "clf = LogisticRegression(solver='lbfgs', multi_class = 'auto').fit(z_train.round(), y_train.round())\n",
    "evaluate(clf, z_train.round(), y_train.round(), z_test.round(), y_test.round())"
   ]
  },
  {
   "cell_type": "code",
   "execution_count": 102,
   "metadata": {},
   "outputs": [
    {
     "name": "stderr",
     "output_type": "stream",
     "text": [
      "C:\\Users\\yj_li\\AppData\\Local\\Programs\\Python\\Python37\\lib\\site-packages\\sklearn\\linear_model\\logistic.py:758: ConvergenceWarning: lbfgs failed to converge. Increase the number of iterations.\n",
      "  \"of iterations.\", ConvergenceWarning)\n"
     ]
    },
    {
     "name": "stdout",
     "output_type": "stream",
     "text": [
      "Train accuracy: 0.009717314487632508\n",
      "Test accuracy: 0.0\n"
     ]
    }
   ],
   "source": [
    "clf = LogisticRegression(solver='lbfgs', multi_class = 'auto').fit(z_train.astype('int'), y_train.astype('int'))\n",
    "evaluate(clf, z_train.astype('int'), y_train.astype('int'), z_test.astype('int'), y_test.astype('int'))"
   ]
  },
  {
   "cell_type": "markdown",
   "metadata": {},
   "source": [
    "各欄位直接去掉小數的Train accuracy較四捨五入的高。\n",
    "\n",
    "嘗試過丟掉各項欄位，accuracy幾乎沒變動，除了丟掉Volume這個欄位，Train accuracy accuracy會上升但是結果不收斂。\n",
    "\n",
    "增加跌代次數，前面有收斂的模型皆不影響accuracy，\n",
    "\n",
    "去掉Volume 迭代200 Train accuracy: 0.011484098939929329 (不收斂)\n",
    "\n",
    "迭代300 Train accuracy: 0.013692579505300354 (最高結果但不收斂)\n",
    "       \n",
    "迭代400 Train accuracy: 0.009275618374558304 (不收斂)\n",
    "       \n",
    "以上結果Test accuracy皆為0.0"
   ]
  },
  {
   "cell_type": "markdown",
   "metadata": {},
   "source": [
    "## SVM"
   ]
  },
  {
   "cell_type": "code",
   "execution_count": 15,
   "metadata": {},
   "outputs": [],
   "source": [
    "from sklearn.preprocessing import StandardScaler\n",
    "\n",
    "scaler = StandardScaler()\n",
    "scaler.fit(x_train.astype('float'))\n",
    "\n",
    "x_train_std = scaler.transform(x_train.astype('float'))\n",
    "x_test_std = scaler.transform(x_test.astype('float'))"
   ]
  },
  {
   "cell_type": "code",
   "execution_count": 16,
   "metadata": {},
   "outputs": [],
   "source": [
    "from sklearn.svm import SVC\n",
    "from sklearn.metrics import accuracy_score"
   ]
  },
  {
   "cell_type": "code",
   "execution_count": 89,
   "metadata": {},
   "outputs": [
    {
     "name": "stdout",
     "output_type": "stream",
     "text": [
      "Penalty = 0.05, Train accuracy = 0.71 %, Test accuracy = 0.00 %\n"
     ]
    }
   ],
   "source": [
    "penalty = 0.05\n",
    "\n",
    "svm = SVC(C=penalty, kernel=\"linear\").fit(x_train_std.astype('int'), y_train.values.astype('int'))\n",
    "acc_train = accuracy_score(y_train.values.astype('int'), svm.predict(x_train_std.astype('int'))) * 100\n",
    "acc_test = accuracy_score(y_test.values.astype('int'), svm.predict(x_test_std.astype('int'))) * 100\n",
    "print(\"Penalty = %.2f, Train accuracy = %.2f %%, Test accuracy = %.2f %%\" % (penalty, acc_train, acc_test))"
   ]
  },
  {
   "cell_type": "code",
   "execution_count": 93,
   "metadata": {},
   "outputs": [],
   "source": [
    "z_train = x_train.drop(columns = \"Low Price\")\n",
    "z_test = x_test.drop(columns = \"Low Price\")"
   ]
  },
  {
   "cell_type": "code",
   "execution_count": 96,
   "metadata": {},
   "outputs": [],
   "source": [
    "scaler.fit(z_train.astype('float'))\n",
    "z_train_std = scaler.transform(z_train.astype('float'))\n",
    "z_test_std = scaler.transform(z_test.astype('float'))"
   ]
  },
  {
   "cell_type": "code",
   "execution_count": 97,
   "metadata": {},
   "outputs": [
    {
     "name": "stdout",
     "output_type": "stream",
     "text": [
      "Penalty = 0.05, Train accuracy = 0.49 %, Test accuracy = 0.00 %\n"
     ]
    }
   ],
   "source": [
    "svm = SVC(C=penalty, kernel=\"linear\").fit(z_train_std.astype('int'), y_train.values.astype('int'))\n",
    "acc_train = accuracy_score(y_train.values.astype('int'), svm.predict(z_train_std.astype('int'))) * 100\n",
    "acc_test = accuracy_score(y_test.values.astype('int'), svm.predict(z_test_std.astype('int'))) * 100\n",
    "print(\"Penalty = %.2f, Train accuracy = %.2f %%, Test accuracy = %.2f %%\" % (penalty, acc_train, acc_test))"
   ]
  },
  {
   "cell_type": "code",
   "execution_count": 106,
   "metadata": {},
   "outputs": [],
   "source": [
    "z_train = x_train.drop(columns = \"High Price\")\n",
    "z_test = x_test.drop(columns = \"High Price\")\n",
    "scaler.fit(z_train.astype('float'))\n",
    "z_train_std = scaler.transform(z_train.astype('float'))\n",
    "z_test_std = scaler.transform(z_test.astype('float'))"
   ]
  },
  {
   "cell_type": "code",
   "execution_count": 107,
   "metadata": {},
   "outputs": [
    {
     "name": "stdout",
     "output_type": "stream",
     "text": [
      "Penalty = 0.05, Train accuracy = 0.53 %, Test accuracy = 0.00 %\n"
     ]
    }
   ],
   "source": [
    "svm = SVC(C=penalty, kernel=\"linear\").fit(z_train_std.astype('int'), y_train.values.astype('int'))\n",
    "acc_train = accuracy_score(y_train.values.astype('int'), svm.predict(z_train_std.astype('int'))) * 100\n",
    "acc_test = accuracy_score(y_test.values.astype('int'), svm.predict(z_test_std.astype('int'))) * 100\n",
    "print(\"Penalty = %.2f, Train accuracy = %.2f %%, Test accuracy = %.2f %%\" % (penalty, acc_train, acc_test))"
   ]
  },
  {
   "cell_type": "code",
   "execution_count": 108,
   "metadata": {},
   "outputs": [],
   "source": [
    "z_train = x_train.drop(columns = \"Open Price\")\n",
    "z_test = x_test.drop(columns = \"Open Price\")\n",
    "scaler.fit(z_train.astype('float'))\n",
    "z_train_std = scaler.transform(z_train.astype('float'))\n",
    "z_test_std = scaler.transform(z_test.astype('float'))"
   ]
  },
  {
   "cell_type": "code",
   "execution_count": 109,
   "metadata": {},
   "outputs": [
    {
     "name": "stdout",
     "output_type": "stream",
     "text": [
      "Penalty = 0.05, Train accuracy = 0.49 %, Test accuracy = 0.00 %\n"
     ]
    }
   ],
   "source": [
    "svm = SVC(C=penalty, kernel=\"linear\").fit(z_train_std.astype('int'), y_train.values.astype('int'))\n",
    "acc_train = accuracy_score(y_train.values.astype('int'), svm.predict(z_train_std.astype('int'))) * 100\n",
    "acc_test = accuracy_score(y_test.values.astype('int'), svm.predict(z_test_std.astype('int'))) * 100\n",
    "print(\"Penalty = %.2f, Train accuracy = %.2f %%, Test accuracy = %.2f %%\" % (penalty, acc_train, acc_test))"
   ]
  },
  {
   "cell_type": "code",
   "execution_count": 110,
   "metadata": {},
   "outputs": [],
   "source": [
    "z_train = x_train.drop(columns = \"Volume\")\n",
    "z_test = x_test.drop(columns = \"Volume\")\n",
    "scaler.fit(z_train.astype('float'))\n",
    "z_train_std = scaler.transform(z_train.astype('float'))\n",
    "z_test_std = scaler.transform(z_test.astype('float'))"
   ]
  },
  {
   "cell_type": "code",
   "execution_count": 111,
   "metadata": {},
   "outputs": [
    {
     "name": "stdout",
     "output_type": "stream",
     "text": [
      "Penalty = 0.05, Train accuracy = 0.80 %, Test accuracy = 0.00 %\n"
     ]
    }
   ],
   "source": [
    "svm = SVC(C=penalty, kernel=\"linear\").fit(z_train_std.astype('int'), y_train.values.astype('int'))\n",
    "acc_train = accuracy_score(y_train.values.astype('int'), svm.predict(z_train_std.astype('int'))) * 100\n",
    "acc_test = accuracy_score(y_test.values.astype('int'), svm.predict(z_test_std.astype('int'))) * 100\n",
    "print(\"Penalty = %.2f, Train accuracy = %.2f %%, Test accuracy = %.2f %%\" % (penalty, acc_train, acc_test))"
   ]
  },
  {
   "cell_type": "markdown",
   "metadata": {},
   "source": [
    "丟入參數直接捨棄小數位的Train accuracy較四捨五入高。\n",
    "\n",
    "除了Volume以外的欄位丟掉所跑出來的Train accuracy皆比原本低，本項最高為丟掉Volume後的Train accuracy = 0.80 %。"
   ]
  },
  {
   "cell_type": "markdown",
   "metadata": {},
   "source": [
    "## Neural Network"
   ]
  },
  {
   "cell_type": "code",
   "execution_count": 112,
   "metadata": {},
   "outputs": [],
   "source": [
    "nx_train = preprocessing.normalize(x_train)\n",
    "nx_test = preprocessing.normalize(x_test)"
   ]
  },
  {
   "cell_type": "code",
   "execution_count": 167,
   "metadata": {},
   "outputs": [],
   "source": [
    "hidden_units = 20    # how many neurons in the hidden layer\n",
    "activation = 'relu'  # activation function for hidden layer\n",
    "l2 = 0.001           # regularization - how much we penalize large parameter values\n",
    "learning_rate = 0.1  # how big our steps are in gradient descent\n",
    "epochs = 20          # how many epochs to train for\n",
    "batch_size = 100      # how many samples to use for each gradient descent update"
   ]
  },
  {
   "cell_type": "code",
   "execution_count": 195,
   "metadata": {},
   "outputs": [],
   "source": [
    "# create a sequential model\n",
    "model = models.Sequential()\n",
    "\n",
    "# add the hidden layer\n",
    "model.add(layers.Dense(input_dim=4,\n",
    "                       units=hidden_units, \n",
    "                       activation=activation))\n",
    "\n",
    "# add the output layer\n",
    "model.add(layers.Dense(input_dim=hidden_units,\n",
    "                       units=1,\n",
    "                       activation='sigmoid'))\n",
    "\n",
    "# define our loss function and optimizer\n",
    "model.compile(loss='binary_crossentropy',\n",
    "              # Adam is a kind of gradient descent\n",
    "              optimizer=optimizers.Adam(lr=learning_rate),\n",
    "              metrics=['accuracy'])"
   ]
  },
  {
   "cell_type": "code",
   "execution_count": 196,
   "metadata": {},
   "outputs": [
    {
     "name": "stdout",
     "output_type": "stream",
     "text": [
      "Train on 2264 samples, validate on 252 samples\n",
      "Epoch 1/10\n",
      "2264/2264 [==============================] - ETA: 31s - loss: -278.1015 - acc: 0.0000e+0 - ETA: 0s - loss: -15756.6364 - acc: 0.0000e+ - 2s 768us/step - loss: -18901.8602 - acc: 0.0000e+00 - val_loss: -43762.3397 - val_acc: 0.0000e+00\n",
      "Epoch 2/10\n",
      "2264/2264 [==============================] - ETA: 0s - loss: -26565.2344 - acc: 0.0000e+ - ETA: 0s - loss: -26454.6253 - acc: 0.0000e+ - 0s 34us/step - loss: -26396.8830 - acc: 0.0000e+00 - val_loss: -43762.3397 - val_acc: 0.0000e+00\n",
      "Epoch 3/10\n",
      "2264/2264 [==============================] - ETA: 0s - loss: -24858.1309 - acc: 0.0000e+ - ETA: 0s - loss: -26259.8567 - acc: 0.0000e+ - 0s 36us/step - loss: -26396.8829 - acc: 0.0000e+00 - val_loss: -43762.3397 - val_acc: 0.0000e+00\n",
      "Epoch 4/10\n",
      "2264/2264 [==============================] - ETA: 0s - loss: -25891.0195 - acc: 0.0000e+ - ETA: 0s - loss: -26685.3122 - acc: 0.0000e+ - 0s 41us/step - loss: -26396.8834 - acc: 0.0000e+00 - val_loss: -43762.3397 - val_acc: 0.0000e+00\n",
      "Epoch 5/10\n",
      "2264/2264 [==============================] - ETA: 0s - loss: -25120.2656 - acc: 0.0000e+ - ETA: 0s - loss: -26330.3548 - acc: 0.0000e+ - 0s 34us/step - loss: -26396.8828 - acc: 0.0000e+00 - val_loss: -43762.3397 - val_acc: 0.0000e+00\n",
      "Epoch 6/10\n",
      "2264/2264 [==============================] - ETA: 0s - loss: -26130.6152 - acc: 0.0000e+ - ETA: 0s - loss: -26311.4934 - acc: 0.0000e+ - 0s 34us/step - loss: -26396.8830 - acc: 0.0000e+00 - val_loss: -43762.3397 - val_acc: 0.0000e+00\n",
      "Epoch 7/10\n",
      "2264/2264 [==============================] - ETA: 0s - loss: -25996.0391 - acc: 0.0000e+ - ETA: 0s - loss: -26475.2876 - acc: 0.0000e+ - 0s 36us/step - loss: -26396.8832 - acc: 0.0000e+00 - val_loss: -43762.3397 - val_acc: 0.0000e+00\n",
      "Epoch 8/10\n",
      "2264/2264 [==============================] - ETA: 0s - loss: -26022.7930 - acc: 0.0000e+ - ETA: 0s - loss: -26520.4661 - acc: 0.0000e+ - 0s 35us/step - loss: -26396.8832 - acc: 0.0000e+00 - val_loss: -43762.3397 - val_acc: 0.0000e+00\n",
      "Epoch 9/10\n",
      "2264/2264 [==============================] - ETA: 0s - loss: -26321.8594 - acc: 0.0000e+ - ETA: 0s - loss: -26424.0293 - acc: 0.0000e+ - 0s 37us/step - loss: -26396.8831 - acc: 0.0000e+00 - val_loss: -43762.3397 - val_acc: 0.0000e+00\n",
      "Epoch 10/10\n",
      "2264/2264 [==============================] - ETA: 0s - loss: -27460.9844 - acc: 0.0000e+ - ETA: 0s - loss: -26362.1399 - acc: 0.0000e+ - 0s 34us/step - loss: -26396.8827 - acc: 0.0000e+00 - val_loss: -43762.3397 - val_acc: 0.0000e+00\n",
      "2264/2264 [==============================] - ETA:  - ETA:  - ETA:  - ETA:  - 0s 81us/step\n",
      "252/252 [==============================] - ETA:  - 0s 85us/step\n",
      "Training accuracy: 0.0\n",
      "Testing accuracy: 0.0\n"
     ]
    }
   ],
   "source": [
    "# train the parameters\n",
    "history = model.fit(nx_train, y_train, epochs=10, batch_size=batch_size, validation_data=(x_test,y_test), class_weight=\"balance\")\n",
    "\n",
    "# evaluate accuracy\n",
    "train_acc = model.evaluate(nx_train, y_train, batch_size=32)[1]\n",
    "test_acc = model.evaluate(nx_test, y_test, batch_size=32)[1]\n",
    "print('Training accuracy: %s' % train_acc)\n",
    "print('Testing accuracy: %s' % test_acc)"
   ]
  },
  {
   "cell_type": "code",
   "execution_count": 197,
   "metadata": {},
   "outputs": [],
   "source": [
    "def train_and_evaluate(model, x_train, y_train, x_test, y_test, n=20):\n",
    "    train_accs = []\n",
    "    test_accs = []\n",
    "    with tqdm(total=n) as progress_bar:\n",
    "        for _ in range(n):\n",
    "            model.fit(\n",
    "                x_train, \n",
    "                y_train, \n",
    "                epochs=epochs, \n",
    "                batch_size=batch_size, \n",
    "                class_weight=\"balance\", \n",
    "                verbose=False)\n",
    "            train_accs.append(model.evaluate(x_train, y_train, batch_size=32, verbose=False)[1])\n",
    "            test_accs.append(model.evaluate(x_test, y_test, batch_size=32, verbose=False)[1])\n",
    "            progress_bar.update()\n",
    "    print('Avgerage Training Accuracy: %s' % np.average(train_accs))\n",
    "    print('Avgerage Testing Accuracy: %s' % np.average(test_accs))\n",
    "    return train_accs, test_accs"
   ]
  },
  {
   "cell_type": "code",
   "execution_count": 198,
   "metadata": {},
   "outputs": [
    {
     "name": "stderr",
     "output_type": "stream",
     "text": [
      "100%|██████████████████████████████████████████████████████████████████████████████████| 20/20 [00:19<00:00,  1.03s/it]\n"
     ]
    },
    {
     "name": "stdout",
     "output_type": "stream",
     "text": [
      "Avgerage Training Accuracy: 0.0\n",
      "Avgerage Testing Accuracy: 0.0\n"
     ]
    }
   ],
   "source": [
    "_, test_accs = train_and_evaluate(model, nx_train, y_train, nx_test, y_test)"
   ]
  },
  {
   "cell_type": "code",
   "execution_count": 188,
   "metadata": {
    "scrolled": false
   },
   "outputs": [
    {
     "data": {
      "image/png": "[encoded data removed]",
      "text/plain": [
       "<Figure size 432x288 with 1 Axes>"
      ]
     },
     "metadata": {
      "needs_background": "light"
     },
     "output_type": "display_data"
    }
   ],
   "source": [
    "history = model.fit(\n",
    "    nx_train, y_train, epochs=epochs, batch_size=batch_size, \n",
    "    class_weight=\"balance\", verbose=False)\n",
    "losses = history.history['loss']\n",
    "plt.plot(range(len(losses)), losses, 'r')\n",
    "plt.show()"
   ]
  },
  {
   "cell_type": "markdown",
   "metadata": {},
   "source": [
    "neural network會Overfitting，對於股市這種完全沒規則的波動不適用"
   ]
  },
  {
   "cell_type": "markdown",
   "metadata": {},
   "source": [
    "先查看資料型態以及填補遺漏值，做SVM前先把資料做標準化，做Neural Network前，把資料做normal。\n",
    "\n",
    "本次預測結果Testing Accuracy皆為0，而使用SVM對初始資料所得的Training Accuracy為最高值。\n",
    "\n",
    "SVM跑的時間會比Logistic Regression久，SVM較Logistic Regression有彈性，\n",
    "\n",
    "若資料型態不同，則跑出來的結果也會不同。\n",
    "\n",
    "而經過調整後，丟棄Volume欄位(看圖形這類資料較分散)的Logistic Regression的Training Accuracy有更高的預測率。\n"
   ]
  }
 ],
 "metadata": {
  "kernelspec": {
   "display_name": "'Python Interactive'",
   "language": "python",
   "name": "9ac3cd91-7f07-4153-a007-8b8a2cab5554"
  },
  "language_info": {
   "codemirror_mode": {
    "name": "ipython",
    "version": 3
   },
   "file_extension": ".py",
   "mimetype": "text/x-python",
   "name": "python",
   "nbconvert_exporter": "python",
   "pygments_lexer": "ipython3",
   "version": "3.7.3"
  }
 },
 "nbformat": 4,
 "nbformat_minor": 2
}
