{
 "cells": [
  {
   "cell_type": "markdown",
   "metadata": {},
   "source": [
    "預測趨勢依Close Price-Open Price是否大於0做評估\n",
    "\n",
    "參考資料:\n",
    "\n",
    "https://scikit-learn.org/stable/modules/generated/sklearn.linear_model.LogisticRegression.html\n",
    "\n",
    "https://scikit-learn.org/stable/modules/generated/sklearn.svm.SVC.html\n",
    "\n",
    "https://keras.io/models/sequential/"
   ]
  },
  {
   "cell_type": "code",
   "execution_count": 1,
   "metadata": {},
   "outputs": [
    {
     "name": "stderr",
     "output_type": "stream",
     "text": [
      "Using TensorFlow backend.\n"
     ]
    }
   ],
   "source": [
    "import matplotlib.pyplot as plt\n",
    "import numpy as np\n",
    "import pandas as pd\n",
    "from sklearn import linear_model, metrics, model_selection\n",
    "import random\n",
    "from keras import models, layers, optimizers, regularizers\n",
    "from sklearn import preprocessing\n",
    "import tensorflow as tf\n",
    "from tqdm import tqdm\n",
    "from sklearn import datasets"
   ]
  },
  {
   "cell_type": "code",
   "execution_count": 2,
   "metadata": {},
   "outputs": [],
   "source": [
    "test_data = pd.read_csv('test.csv')\n",
    "train_data = pd.read_csv('train.csv')"
   ]
  },
  {
   "cell_type": "code",
   "execution_count": 3,
   "metadata": {
    "scrolled": true
   },
   "outputs": [],
   "source": [
    "train_data['Move'] = train_data['Close Price']-train_data['Open Price']\n",
    "train_data.loc[train_data['Move'] >= 0, \"Move\"] = 1\n",
    "train_data.loc[train_data['Move'] <= 0, \"Move\"] = 0"
   ]
  },
  {
   "cell_type": "code",
   "execution_count": 4,
   "metadata": {},
   "outputs": [
    {
     "data": {
      "text/html": [
       "<div>\n",
       "<style scoped>\n",
       "    .dataframe tbody tr th:only-of-type {\n",
       "        vertical-align: middle;\n",
       "    }\n",
       "\n",
       "    .dataframe tbody tr th {\n",
       "        vertical-align: top;\n",
       "    }\n",
       "\n",
       "    .dataframe thead th {\n",
       "        text-align: right;\n",
       "    }\n",
       "</style>\n",
       "<table border=\"1\" class=\"dataframe\">\n",
       "  <thead>\n",
       "    <tr style=\"text-align: right;\">\n",
       "      <th></th>\n",
       "      <th>Date</th>\n",
       "      <th>Open Price</th>\n",
       "      <th>Close Price</th>\n",
       "      <th>High Price</th>\n",
       "      <th>Low Price</th>\n",
       "      <th>Volume</th>\n",
       "      <th>Move</th>\n",
       "    </tr>\n",
       "  </thead>\n",
       "  <tbody>\n",
       "    <tr>\n",
       "      <th>0</th>\n",
       "      <td>02-Jan-2009</td>\n",
       "      <td>902.99</td>\n",
       "      <td>931.80</td>\n",
       "      <td>934.73</td>\n",
       "      <td>899.35</td>\n",
       "      <td>4048270080</td>\n",
       "      <td>1.0</td>\n",
       "    </tr>\n",
       "    <tr>\n",
       "      <th>1</th>\n",
       "      <td>05-Jan-2009</td>\n",
       "      <td>929.17</td>\n",
       "      <td>927.45</td>\n",
       "      <td>936.63</td>\n",
       "      <td>919.53</td>\n",
       "      <td>5413910016</td>\n",
       "      <td>0.0</td>\n",
       "    </tr>\n",
       "    <tr>\n",
       "      <th>2</th>\n",
       "      <td>06-Jan-2009</td>\n",
       "      <td>931.17</td>\n",
       "      <td>934.70</td>\n",
       "      <td>943.85</td>\n",
       "      <td>927.28</td>\n",
       "      <td>5392620032</td>\n",
       "      <td>1.0</td>\n",
       "    </tr>\n",
       "    <tr>\n",
       "      <th>3</th>\n",
       "      <td>07-Jan-2009</td>\n",
       "      <td>927.45</td>\n",
       "      <td>906.65</td>\n",
       "      <td>927.45</td>\n",
       "      <td>902.37</td>\n",
       "      <td>4704940032</td>\n",
       "      <td>0.0</td>\n",
       "    </tr>\n",
       "    <tr>\n",
       "      <th>4</th>\n",
       "      <td>08-Jan-2009</td>\n",
       "      <td>905.73</td>\n",
       "      <td>909.73</td>\n",
       "      <td>910.00</td>\n",
       "      <td>896.81</td>\n",
       "      <td>4991549952</td>\n",
       "      <td>1.0</td>\n",
       "    </tr>\n",
       "  </tbody>\n",
       "</table>\n",
       "</div>"
      ],
      "text/plain": [
       "          Date  Open Price  Close Price  High Price  Low Price      Volume  \\\n",
       "0  02-Jan-2009      902.99       931.80      934.73     899.35  4048270080   \n",
       "1  05-Jan-2009      929.17       927.45      936.63     919.53  5413910016   \n",
       "2  06-Jan-2009      931.17       934.70      943.85     927.28  5392620032   \n",
       "3  07-Jan-2009      927.45       906.65      927.45     902.37  4704940032   \n",
       "4  08-Jan-2009      905.73       909.73      910.00     896.81  4991549952   \n",
       "\n",
       "   Move  \n",
       "0   1.0  \n",
       "1   0.0  \n",
       "2   1.0  \n",
       "3   0.0  \n",
       "4   1.0  "
      ]
     },
     "execution_count": 4,
     "metadata": {},
     "output_type": "execute_result"
    }
   ],
   "source": [
    "train_data.head()"
   ]
  },
  {
   "cell_type": "code",
   "execution_count": 5,
   "metadata": {},
   "outputs": [],
   "source": [
    "test_data['Move'] = test_data['Close Price']-test_data['Open Price']\n",
    "test_data.loc[test_data['Move'] >= 0, \"Move\"] = 1\n",
    "test_data.loc[test_data['Move'] <= 0, \"Move\"] = 0"
   ]
  },
  {
   "cell_type": "code",
   "execution_count": 6,
   "metadata": {},
   "outputs": [
    {
     "data": {
      "text/html": [
       "<div>\n",
       "<style scoped>\n",
       "    .dataframe tbody tr th:only-of-type {\n",
       "        vertical-align: middle;\n",
       "    }\n",
       "\n",
       "    .dataframe tbody tr th {\n",
       "        vertical-align: top;\n",
       "    }\n",
       "\n",
       "    .dataframe thead th {\n",
       "        text-align: right;\n",
       "    }\n",
       "</style>\n",
       "<table border=\"1\" class=\"dataframe\">\n",
       "  <thead>\n",
       "    <tr style=\"text-align: right;\">\n",
       "      <th></th>\n",
       "      <th>Date</th>\n",
       "      <th>Open Price</th>\n",
       "      <th>Close Price</th>\n",
       "      <th>High Price</th>\n",
       "      <th>Low Price</th>\n",
       "      <th>Volume</th>\n",
       "      <th>Move</th>\n",
       "    </tr>\n",
       "  </thead>\n",
       "  <tbody>\n",
       "    <tr>\n",
       "      <th>0</th>\n",
       "      <td>02-Jan-2018</td>\n",
       "      <td>2683.73</td>\n",
       "      <td>2695.81</td>\n",
       "      <td>2695.89</td>\n",
       "      <td>2682.36</td>\n",
       "      <td>1846463232</td>\n",
       "      <td>1.0</td>\n",
       "    </tr>\n",
       "    <tr>\n",
       "      <th>1</th>\n",
       "      <td>03-Jan-2018</td>\n",
       "      <td>2697.85</td>\n",
       "      <td>2713.06</td>\n",
       "      <td>2714.37</td>\n",
       "      <td>2697.77</td>\n",
       "      <td>2090595328</td>\n",
       "      <td>1.0</td>\n",
       "    </tr>\n",
       "    <tr>\n",
       "      <th>2</th>\n",
       "      <td>04-Jan-2018</td>\n",
       "      <td>2719.31</td>\n",
       "      <td>2723.99</td>\n",
       "      <td>2729.29</td>\n",
       "      <td>2719.07</td>\n",
       "      <td>2100767744</td>\n",
       "      <td>1.0</td>\n",
       "    </tr>\n",
       "    <tr>\n",
       "      <th>3</th>\n",
       "      <td>05-Jan-2018</td>\n",
       "      <td>2731.33</td>\n",
       "      <td>2743.15</td>\n",
       "      <td>2743.45</td>\n",
       "      <td>2727.92</td>\n",
       "      <td>1918869120</td>\n",
       "      <td>1.0</td>\n",
       "    </tr>\n",
       "    <tr>\n",
       "      <th>4</th>\n",
       "      <td>08-Jan-2018</td>\n",
       "      <td>2742.67</td>\n",
       "      <td>2747.71</td>\n",
       "      <td>2748.51</td>\n",
       "      <td>2737.60</td>\n",
       "      <td>1894823936</td>\n",
       "      <td>1.0</td>\n",
       "    </tr>\n",
       "  </tbody>\n",
       "</table>\n",
       "</div>"
      ],
      "text/plain": [
       "          Date  Open Price  Close Price  High Price  Low Price      Volume  \\\n",
       "0  02-Jan-2018     2683.73      2695.81     2695.89    2682.36  1846463232   \n",
       "1  03-Jan-2018     2697.85      2713.06     2714.37    2697.77  2090595328   \n",
       "2  04-Jan-2018     2719.31      2723.99     2729.29    2719.07  2100767744   \n",
       "3  05-Jan-2018     2731.33      2743.15     2743.45    2727.92  1918869120   \n",
       "4  08-Jan-2018     2742.67      2747.71     2748.51    2737.60  1894823936   \n",
       "\n",
       "   Move  \n",
       "0   1.0  \n",
       "1   1.0  \n",
       "2   1.0  \n",
       "3   1.0  \n",
       "4   1.0  "
      ]
     },
     "execution_count": 6,
     "metadata": {},
     "output_type": "execute_result"
    }
   ],
   "source": [
    "test_data.head()"
   ]
  },
  {
   "cell_type": "code",
   "execution_count": 7,
   "metadata": {
    "scrolled": true
   },
   "outputs": [
    {
     "data": {
      "text/plain": [
       "Date           0\n",
       "Open Price     0\n",
       "Close Price    0\n",
       "High Price     0\n",
       "Low Price      0\n",
       "Volume         0\n",
       "Move           0\n",
       "dtype: int64"
      ]
     },
     "execution_count": 7,
     "metadata": {},
     "output_type": "execute_result"
    }
   ],
   "source": [
    "test_data.isnull().sum()"
   ]
  },
  {
   "cell_type": "code",
   "execution_count": 8,
   "metadata": {
    "scrolled": true
   },
   "outputs": [
    {
     "data": {
      "text/plain": [
       "Date           0\n",
       "Open Price     0\n",
       "Close Price    0\n",
       "High Price     0\n",
       "Low Price      0\n",
       "Volume         0\n",
       "Move           0\n",
       "dtype: int64"
      ]
     },
     "execution_count": 8,
     "metadata": {},
     "output_type": "execute_result"
    }
   ],
   "source": [
    "train_data.isnull().sum()"
   ]
  },
  {
   "cell_type": "markdown",
   "metadata": {},
   "source": [
    "資料沒有遺漏值，不需做遺漏值填補"
   ]
  },
  {
   "cell_type": "code",
   "execution_count": 9,
   "metadata": {},
   "outputs": [],
   "source": [
    "test_data = test_data.drop(columns = \"Date\")\n",
    "train_data = train_data.drop(columns = \"Date\")\n",
    "test_data = test_data.drop(columns = \"Close Price\")\n",
    "train_data = train_data.drop(columns = \"Close Price\")"
   ]
  },
  {
   "cell_type": "markdown",
   "metadata": {},
   "source": [
    "此處Date為不重要資訊故移除\n",
    "\n",
    "Close Price為預測結果的一部分，也做移除"
   ]
  },
  {
   "cell_type": "code",
   "execution_count": 10,
   "metadata": {
    "scrolled": true
   },
   "outputs": [
    {
     "name": "stdout",
     "output_type": "stream",
     "text": [
      "<class 'pandas.core.frame.DataFrame'>\n",
      "RangeIndex: 2264 entries, 0 to 2263\n",
      "Data columns (total 5 columns):\n",
      "Open Price    2264 non-null float64\n",
      "High Price    2264 non-null float64\n",
      "Low Price     2264 non-null float64\n",
      "Volume        2264 non-null int64\n",
      "Move          2264 non-null float64\n",
      "dtypes: float64(4), int64(1)\n",
      "memory usage: 88.5 KB\n"
     ]
    }
   ],
   "source": [
    "train_data.info()"
   ]
  },
  {
   "cell_type": "code",
   "execution_count": 11,
   "metadata": {},
   "outputs": [
    {
     "name": "stdout",
     "output_type": "stream",
     "text": [
      "<class 'pandas.core.frame.DataFrame'>\n",
      "RangeIndex: 252 entries, 0 to 251\n",
      "Data columns (total 5 columns):\n",
      "Open Price    252 non-null float64\n",
      "High Price    252 non-null float64\n",
      "Low Price     252 non-null float64\n",
      "Volume        252 non-null int64\n",
      "Move          252 non-null float64\n",
      "dtypes: float64(4), int64(1)\n",
      "memory usage: 9.9 KB\n"
     ]
    }
   ],
   "source": [
    "test_data.info()"
   ]
  },
  {
   "cell_type": "code",
   "execution_count": 12,
   "metadata": {},
   "outputs": [],
   "source": [
    "def split(train_data, test_data):\n",
    "    x_train = train_data.loc[:, train_data.columns != 'Move']\n",
    "    y_train = train_data['Move']\n",
    "    x_test = test_data.loc[:, test_data.columns != 'Move']\n",
    "    y_test = test_data['Move']\n",
    "    return x_train, y_train, x_test, y_test"
   ]
  },
  {
   "cell_type": "code",
   "execution_count": 13,
   "metadata": {},
   "outputs": [],
   "source": [
    "def plot_feature(data, feature_name):\n",
    "    plt.figure(figsize=(10, 3))\n",
    "    plt.scatter(data[feature_name], data['Move'])\n",
    "    plt.xlabel(feature_name)\n",
    "    plt.ylabel('Move')\n",
    "    plt.show()"
   ]
  },
  {
   "cell_type": "code",
   "execution_count": 14,
   "metadata": {
    "scrolled": true
   },
   "outputs": [
    {
     "data": {
      "image/png": "[encoded data removed]",
      "text/plain": [
       "<Figure size 720x216 with 1 Axes>"
      ]
     },
     "metadata": {
      "needs_background": "light"
     },
     "output_type": "display_data"
    },
    {
     "data": {
      "image/png": "[encoded data removed]",
      "text/plain": [
       "<Figure size 720x216 with 1 Axes>"
      ]
     },
     "metadata": {
      "needs_background": "light"
     },
     "output_type": "display_data"
    },
    {
     "data": {
      "image/png": "[encoded data removed]",
      "text/plain": [
       "<Figure size 720x216 with 1 Axes>"
      ]
     },
     "metadata": {
      "needs_background": "light"
     },
     "output_type": "display_data"
    },
    {
     "data": {
      "image/png": "[encoded data removed]",
      "text/plain": [
       "<Figure size 720x216 with 1 Axes>"
      ]
     },
     "metadata": {
      "needs_background": "light"
     },
     "output_type": "display_data"
    },
    {
     "data": {
      "image/png": "[encoded data removed]",
      "text/plain": [
       "<Figure size 720x216 with 1 Axes>"
      ]
     },
     "metadata": {
      "needs_background": "light"
     },
     "output_type": "display_data"
    },
    {
     "data": {
      "image/png": "[encoded data removed]",
      "text/plain": [
       "<Figure size 720x216 with 1 Axes>"
      ]
     },
     "metadata": {
      "needs_background": "light"
     },
     "output_type": "display_data"
    },
    {
     "data": {
      "image/png": "[encoded data removed]",
      "text/plain": [
       "<Figure size 720x216 with 1 Axes>"
      ]
     },
     "metadata": {
      "needs_background": "light"
     },
     "output_type": "display_data"
    },
    {
     "data": {
      "image/png": "[encoded data removed]",
      "text/plain": [
       "<Figure size 720x216 with 1 Axes>"
      ]
     },
     "metadata": {
      "needs_background": "light"
     },
     "output_type": "display_data"
    }
   ],
   "source": [
    "#Open Price\tClose Price\tHigh Price\tLow Price\tVolume\n",
    "plot_feature(train_data, 'Open Price')\n",
    "plot_feature(train_data, 'High Price')\n",
    "plot_feature(train_data, 'Low Price')\n",
    "plot_feature(train_data, 'Volume')\n",
    "plot_feature(test_data, 'Open Price')\n",
    "plot_feature(test_data, 'High Price')\n",
    "plot_feature(test_data, 'Low Price')\n",
    "plot_feature(test_data, 'Volume')"
   ]
  },
  {
   "cell_type": "code",
   "execution_count": 15,
   "metadata": {},
   "outputs": [],
   "source": [
    "def evaluate(model, x_train, y_train, x_test, y_test):\n",
    "    train_preds = model.predict(x_train)\n",
    "    test_preds = model.predict(x_test)\n",
    "    train_acc = metrics.accuracy_score(y_train, train_preds)\n",
    "    test_acc = metrics.accuracy_score(y_test, test_preds)\n",
    "    print('Train accuracy: %s' % train_acc)\n",
    "    print('Test accuracy: %s' % test_acc)"
   ]
  },
  {
   "cell_type": "markdown",
   "metadata": {},
   "source": [
    "## Logistic Regression Model"
   ]
  },
  {
   "cell_type": "code",
   "execution_count": 16,
   "metadata": {
    "scrolled": true
   },
   "outputs": [
    {
     "name": "stdout",
     "output_type": "stream",
     "text": [
      "Train accuracy: 0.5123674911660777\n",
      "Test accuracy: 0.4087301587301587\n"
     ]
    }
   ],
   "source": [
    "from sklearn.linear_model import LogisticRegression\n",
    "x_train, y_train, x_test, y_test = split(train_data, test_data)\n",
    "clf = LogisticRegression(solver='lbfgs', multi_class = 'auto').fit(x_train.astype('int'), y_train.astype('int'))\n",
    "evaluate(clf, x_train.astype('int'), y_train.astype('int'), x_test.astype('int'), y_test.astype('int'))"
   ]
  },
  {
   "cell_type": "code",
   "execution_count": 17,
   "metadata": {
    "scrolled": true
   },
   "outputs": [
    {
     "name": "stdout",
     "output_type": "stream",
     "text": [
      "Train accuracy: 0.5463780918727915\n",
      "Test accuracy: 0.503968253968254\n"
     ]
    }
   ],
   "source": [
    "clf = LogisticRegression(solver='lbfgs', multi_class = 'auto').fit(x_train.round(), y_train.round())\n",
    "evaluate(clf, x_train.round(), y_train.round(), x_test.round(), y_test.round())"
   ]
  },
  {
   "cell_type": "code",
   "execution_count": 18,
   "metadata": {},
   "outputs": [],
   "source": [
    "z_train = x_train.drop(columns = \"Low Price\")\n",
    "z_test = x_test.drop(columns = \"Low Price\")"
   ]
  },
  {
   "cell_type": "code",
   "execution_count": 19,
   "metadata": {
    "scrolled": true
   },
   "outputs": [
    {
     "name": "stdout",
     "output_type": "stream",
     "text": [
      "Train accuracy: 0.5463780918727915\n",
      "Test accuracy: 0.503968253968254\n"
     ]
    }
   ],
   "source": [
    "clf = LogisticRegression(solver='lbfgs', multi_class = 'auto').fit(z_train.round(), y_train.round())\n",
    "evaluate(clf, z_train.round(), y_train.round(), z_test.round(), y_test.round())"
   ]
  },
  {
   "cell_type": "code",
   "execution_count": 20,
   "metadata": {},
   "outputs": [
    {
     "name": "stdout",
     "output_type": "stream",
     "text": [
      "Train accuracy: 0.5123674911660777\n",
      "Test accuracy: 0.4087301587301587\n"
     ]
    }
   ],
   "source": [
    "clf = LogisticRegression(solver='lbfgs', multi_class = 'auto').fit(x_train.astype('int'), y_train.astype('int'))\n",
    "evaluate(clf, x_train.astype('int'), y_train.astype('int'), x_test.astype('int'), y_test.astype('int'))"
   ]
  },
  {
   "cell_type": "code",
   "execution_count": 21,
   "metadata": {},
   "outputs": [
    {
     "name": "stdout",
     "output_type": "stream",
     "text": [
      "Train accuracy: 0.5123674911660777\n",
      "Test accuracy: 0.4087301587301587\n"
     ]
    }
   ],
   "source": [
    "clf = LogisticRegression(solver='lbfgs', multi_class = 'auto').fit(z_train.astype('int'), y_train.astype('int'))\n",
    "evaluate(clf, z_train.astype('int'), y_train.astype('int'), z_test.astype('int'), y_test.astype('int'))"
   ]
  },
  {
   "cell_type": "code",
   "execution_count": 22,
   "metadata": {},
   "outputs": [],
   "source": [
    "z_train = x_train.drop(columns = \"High Price\")\n",
    "z_test = x_test.drop(columns = \"High Price\")"
   ]
  },
  {
   "cell_type": "code",
   "execution_count": 23,
   "metadata": {
    "scrolled": true
   },
   "outputs": [
    {
     "name": "stdout",
     "output_type": "stream",
     "text": [
      "Train accuracy: 0.5463780918727915\n",
      "Test accuracy: 0.503968253968254\n"
     ]
    }
   ],
   "source": [
    "clf = LogisticRegression(solver='lbfgs', multi_class = 'auto').fit(z_train.round(), y_train.round())\n",
    "evaluate(clf, z_train.round(), y_train.round(), z_test.round(), y_test.round())"
   ]
  },
  {
   "cell_type": "code",
   "execution_count": 24,
   "metadata": {},
   "outputs": [],
   "source": [
    "z_train = x_train.drop(columns = \"Open Price\")\n",
    "z_test = x_test.drop(columns = \"Open Price\")"
   ]
  },
  {
   "cell_type": "code",
   "execution_count": 25,
   "metadata": {
    "scrolled": true
   },
   "outputs": [
    {
     "name": "stdout",
     "output_type": "stream",
     "text": [
      "Train accuracy: 0.5463780918727915\n",
      "Test accuracy: 0.503968253968254\n"
     ]
    }
   ],
   "source": [
    "clf = LogisticRegression(solver='lbfgs', multi_class = 'auto').fit(z_train.round(), y_train.round())\n",
    "evaluate(clf, z_train.round(), y_train.round(), z_test.round(), y_test.round())"
   ]
  },
  {
   "cell_type": "code",
   "execution_count": 26,
   "metadata": {},
   "outputs": [],
   "source": [
    "z_train = x_train.drop(columns = \"Open Price\")\n",
    "z_test = x_test.drop(columns = \"Open Price\")\n",
    "z_train = z_train.drop(columns = \"Low Price\")\n",
    "z_test = z_test.drop(columns = \"Low Price\")"
   ]
  },
  {
   "cell_type": "code",
   "execution_count": 27,
   "metadata": {},
   "outputs": [
    {
     "name": "stdout",
     "output_type": "stream",
     "text": [
      "Train accuracy: 0.5463780918727915\n",
      "Test accuracy: 0.503968253968254\n"
     ]
    }
   ],
   "source": [
    "clf = LogisticRegression(solver='lbfgs', multi_class = 'auto').fit(z_train.round(), y_train.round())\n",
    "evaluate(clf, z_train.round(), y_train.round(), z_test.round(), y_test.round())"
   ]
  },
  {
   "cell_type": "code",
   "execution_count": 28,
   "metadata": {},
   "outputs": [],
   "source": [
    "z_train = x_train.drop(columns = \"Volume\")\n",
    "z_test = x_test.drop(columns = \"Volume\")"
   ]
  },
  {
   "cell_type": "code",
   "execution_count": 29,
   "metadata": {},
   "outputs": [
    {
     "name": "stdout",
     "output_type": "stream",
     "text": [
      "Train accuracy: 0.8507067137809188\n",
      "Test accuracy: 0.8333333333333334\n"
     ]
    }
   ],
   "source": [
    "clf = LogisticRegression(solver='lbfgs', multi_class = 'auto').fit(z_train.round(), y_train.round())\n",
    "evaluate(clf, z_train.round(), y_train.round(), z_test.round(), y_test.round())"
   ]
  },
  {
   "cell_type": "code",
   "execution_count": 30,
   "metadata": {},
   "outputs": [
    {
     "name": "stdout",
     "output_type": "stream",
     "text": [
      "Train accuracy: 0.8507067137809188\n",
      "Test accuracy: 0.8333333333333334\n"
     ]
    }
   ],
   "source": [
    "clf = LogisticRegression(solver='lbfgs', multi_class = 'auto',max_iter=106).fit(z_train.round(), y_train.round())\n",
    "evaluate(clf, z_train.round(), y_train.round(), z_test.round(), y_test.round())"
   ]
  },
  {
   "cell_type": "code",
   "execution_count": 31,
   "metadata": {},
   "outputs": [
    {
     "name": "stdout",
     "output_type": "stream",
     "text": [
      "Train accuracy: 0.8462897526501767\n",
      "Test accuracy: 0.8214285714285714\n"
     ]
    }
   ],
   "source": [
    "clf = LogisticRegression(solver='lbfgs', multi_class = 'auto').fit(z_train.astype('int'), y_train.astype('int'))\n",
    "evaluate(clf, z_train.astype('int'), y_train.astype('int'), z_test.astype('int'), y_test.astype('int'))"
   ]
  },
  {
   "cell_type": "markdown",
   "metadata": {},
   "source": [
    "各欄位直接去掉小數的Train accuracy和Test accuracy較四捨五入的低。而Train則較Test高。\n",
    "\n",
    "Train accuracy: 0.5463780918727915\n",
    "\n",
    "Test accuracy: 0.503968253968254\n",
    "\n",
    "嘗試過丟掉各項欄位，accuracy幾乎沒變動，除了丟掉Volume這個欄位，Train accuracy accuracy會上升但是四捨五入的資料結果不收斂。\n",
    "\n",
    "增加迭代次數到106次時四捨五入的資料會收斂，\n",
    "\n",
    "此測試資料最高accuracy為丟掉Volume欄位直接去掉小數位的資料，\n",
    "\n",
    "Train accuracy: 0.8507067137809188\n",
    "\n",
    "Test accuracy: 0.8333333333333334"
   ]
  },
  {
   "cell_type": "markdown",
   "metadata": {},
   "source": [
    "## SVM"
   ]
  },
  {
   "cell_type": "code",
   "execution_count": 32,
   "metadata": {},
   "outputs": [],
   "source": [
    "from sklearn.preprocessing import StandardScaler\n",
    "\n",
    "scaler = StandardScaler()\n",
    "scaler.fit(x_train.astype('float'))\n",
    "\n",
    "x_train_std = scaler.transform(x_train.astype('float'))\n",
    "x_test_std = scaler.transform(x_test.astype('float'))"
   ]
  },
  {
   "cell_type": "code",
   "execution_count": 33,
   "metadata": {},
   "outputs": [],
   "source": [
    "from sklearn.svm import SVC\n",
    "from sklearn.metrics import accuracy_score"
   ]
  },
  {
   "cell_type": "code",
   "execution_count": 34,
   "metadata": {},
   "outputs": [
    {
     "name": "stdout",
     "output_type": "stream",
     "text": [
      "Penalty = 0.05, Train accuracy = 54.64 %, Test accuracy = 50.40 %\n"
     ]
    }
   ],
   "source": [
    "penalty = 0.05\n",
    "\n",
    "svm = SVC(C=penalty, kernel=\"linear\").fit(x_train_std.astype('int'), y_train.values.astype('int'))\n",
    "acc_train = accuracy_score(y_train.values.astype('int'), svm.predict(x_train_std.astype('int'))) * 100\n",
    "acc_test = accuracy_score(y_test.values.astype('int'), svm.predict(x_test_std.astype('int'))) * 100\n",
    "print(\"Penalty = %.2f, Train accuracy = %.2f %%, Test accuracy = %.2f %%\" % (penalty, acc_train, acc_test))"
   ]
  },
  {
   "cell_type": "code",
   "execution_count": 35,
   "metadata": {},
   "outputs": [
    {
     "name": "stdout",
     "output_type": "stream",
     "text": [
      "Penalty = 0.05, Train accuracy = 54.64 %, Test accuracy = 50.40 %\n"
     ]
    }
   ],
   "source": [
    "penalty = 0.05\n",
    "\n",
    "svm = SVC(C=penalty, kernel=\"linear\").fit(x_train_std.round(), y_train.values.round())\n",
    "acc_train = accuracy_score(y_train.values.round(), svm.predict(x_train_std.round())) * 100\n",
    "acc_test = accuracy_score(y_test.values.round(), svm.predict(x_test_std.round())) * 100\n",
    "print(\"Penalty = %.2f, Train accuracy = %.2f %%, Test accuracy = %.2f %%\" % (penalty, acc_train, acc_test))"
   ]
  },
  {
   "cell_type": "code",
   "execution_count": 36,
   "metadata": {},
   "outputs": [],
   "source": [
    "z_train = x_train.drop(columns = \"Low Price\")\n",
    "z_test = x_test.drop(columns = \"Low Price\")"
   ]
  },
  {
   "cell_type": "code",
   "execution_count": 37,
   "metadata": {},
   "outputs": [],
   "source": [
    "scaler.fit(z_train.astype('float'))\n",
    "z_train_std = scaler.transform(z_train.astype('float'))\n",
    "z_test_std = scaler.transform(z_test.astype('float'))"
   ]
  },
  {
   "cell_type": "code",
   "execution_count": 38,
   "metadata": {},
   "outputs": [
    {
     "name": "stdout",
     "output_type": "stream",
     "text": [
      "Penalty = 0.05, Train accuracy = 54.64 %, Test accuracy = 50.40 %\n"
     ]
    }
   ],
   "source": [
    "svm = SVC(C=penalty, kernel=\"linear\").fit(z_train_std.astype('int'), y_train.values.astype('int'))\n",
    "acc_train = accuracy_score(y_train.values.astype('int'), svm.predict(z_train_std.astype('int'))) * 100\n",
    "acc_test = accuracy_score(y_test.values.astype('int'), svm.predict(z_test_std.astype('int'))) * 100\n",
    "print(\"Penalty = %.2f, Train accuracy = %.2f %%, Test accuracy = %.2f %%\" % (penalty, acc_train, acc_test))"
   ]
  },
  {
   "cell_type": "code",
   "execution_count": 39,
   "metadata": {},
   "outputs": [],
   "source": [
    "z_train = x_train.drop(columns = \"High Price\")\n",
    "z_test = x_test.drop(columns = \"High Price\")\n",
    "scaler.fit(z_train.astype('float'))\n",
    "z_train_std = scaler.transform(z_train.astype('float'))\n",
    "z_test_std = scaler.transform(z_test.astype('float'))"
   ]
  },
  {
   "cell_type": "code",
   "execution_count": 40,
   "metadata": {},
   "outputs": [
    {
     "name": "stdout",
     "output_type": "stream",
     "text": [
      "Penalty = 0.05, Train accuracy = 54.64 %, Test accuracy = 50.40 %\n"
     ]
    }
   ],
   "source": [
    "svm = SVC(C=penalty, kernel=\"linear\").fit(z_train_std.astype('int'), y_train.values.astype('int'))\n",
    "acc_train = accuracy_score(y_train.values.astype('int'), svm.predict(z_train_std.astype('int'))) * 100\n",
    "acc_test = accuracy_score(y_test.values.astype('int'), svm.predict(z_test_std.astype('int'))) * 100\n",
    "print(\"Penalty = %.2f, Train accuracy = %.2f %%, Test accuracy = %.2f %%\" % (penalty, acc_train, acc_test))"
   ]
  },
  {
   "cell_type": "code",
   "execution_count": 41,
   "metadata": {},
   "outputs": [],
   "source": [
    "z_train = x_train.drop(columns = \"Open Price\")\n",
    "z_test = x_test.drop(columns = \"Open Price\")\n",
    "scaler.fit(z_train.astype('float'))\n",
    "z_train_std = scaler.transform(z_train.astype('float'))\n",
    "z_test_std = scaler.transform(z_test.astype('float'))"
   ]
  },
  {
   "cell_type": "code",
   "execution_count": 42,
   "metadata": {},
   "outputs": [
    {
     "name": "stdout",
     "output_type": "stream",
     "text": [
      "Penalty = 0.05, Train accuracy = 54.64 %, Test accuracy = 50.40 %\n"
     ]
    }
   ],
   "source": [
    "svm = SVC(C=penalty, kernel=\"linear\").fit(z_train_std.astype('int'), y_train.values.astype('int'))\n",
    "acc_train = accuracy_score(y_train.values.astype('int'), svm.predict(z_train_std.astype('int'))) * 100\n",
    "acc_test = accuracy_score(y_test.values.astype('int'), svm.predict(z_test_std.astype('int'))) * 100\n",
    "print(\"Penalty = %.2f, Train accuracy = %.2f %%, Test accuracy = %.2f %%\" % (penalty, acc_train, acc_test))"
   ]
  },
  {
   "cell_type": "code",
   "execution_count": 43,
   "metadata": {},
   "outputs": [],
   "source": [
    "z_train = x_train.drop(columns = \"Volume\")\n",
    "z_test = x_test.drop(columns = \"Volume\")\n",
    "scaler.fit(z_train.astype('float'))\n",
    "z_train_std = scaler.transform(z_train.astype('float'))\n",
    "z_test_std = scaler.transform(z_test.astype('float'))"
   ]
  },
  {
   "cell_type": "code",
   "execution_count": 44,
   "metadata": {},
   "outputs": [
    {
     "name": "stdout",
     "output_type": "stream",
     "text": [
      "Penalty = 0.05, Train accuracy = 54.64 %, Test accuracy = 50.40 %\n"
     ]
    }
   ],
   "source": [
    "svm = SVC(C=penalty, kernel=\"linear\").fit(z_train_std.astype('int'), y_train.values.astype('int'))\n",
    "acc_train = accuracy_score(y_train.values.astype('int'), svm.predict(z_train_std.astype('int'))) * 100\n",
    "acc_test = accuracy_score(y_test.values.astype('int'), svm.predict(z_test_std.astype('int'))) * 100\n",
    "print(\"Penalty = %.2f, Train accuracy = %.2f %%, Test accuracy = %.2f %%\" % (penalty, acc_train, acc_test))"
   ]
  },
  {
   "cell_type": "markdown",
   "metadata": {},
   "source": [
    "不論丟掉哪個欄位以及資料小數點處理為直接丟棄還是四捨五入結果都相同\n",
    "\n",
    "Train accuracy = 54.64 %, Test accuracy = 50.40 %"
   ]
  },
  {
   "cell_type": "markdown",
   "metadata": {},
   "source": [
    "## Neural Network"
   ]
  },
  {
   "cell_type": "code",
   "execution_count": 45,
   "metadata": {},
   "outputs": [],
   "source": [
    "nx_train = preprocessing.normalize(x_train)\n",
    "nx_test = preprocessing.normalize(x_test)"
   ]
  },
  {
   "cell_type": "code",
   "execution_count": 46,
   "metadata": {},
   "outputs": [],
   "source": [
    "hidden_units = 20    # how many neurons in the hidden layer\n",
    "activation = 'relu'  # activation function for hidden layer\n",
    "l2 = 0.001           # regularization - how much we penalize large parameter values\n",
    "learning_rate = 0.1  # how big our steps are in gradient descent\n",
    "epochs = 20          # how many epochs to train for\n",
    "batch_size = 100      # how many samples to use for each gradient descent update\n",
    "dim = 4"
   ]
  },
  {
   "cell_type": "code",
   "execution_count": 47,
   "metadata": {},
   "outputs": [
    {
     "name": "stdout",
     "output_type": "stream",
     "text": [
      "WARNING:tensorflow:From c:\\users\\yj_li\\appdata\\local\\programs\\python\\python37\\lib\\site-packages\\tensorflow\\python\\framework\\op_def_library.py:263: colocate_with (from tensorflow.python.framework.ops) is deprecated and will be removed in a future version.\n",
      "Instructions for updating:\n",
      "Colocations handled automatically by placer.\n"
     ]
    }
   ],
   "source": [
    "# create a sequential model\n",
    "model = models.Sequential()\n",
    "\n",
    "# add the hidden layer\n",
    "model.add(layers.Dense(input_dim=dim,\n",
    "                       units=hidden_units, \n",
    "                       activation=activation))\n",
    "\n",
    "# add the output layer\n",
    "model.add(layers.Dense(input_dim=hidden_units,\n",
    "                       units=1,\n",
    "                       activation='sigmoid'))\n",
    "\n",
    "# define our loss function and optimizer\n",
    "model.compile(loss='binary_crossentropy',\n",
    "              # Adam is a kind of gradient descent\n",
    "              optimizer=optimizers.Adam(lr=learning_rate),\n",
    "              metrics=['accuracy'])"
   ]
  },
  {
   "cell_type": "code",
   "execution_count": 48,
   "metadata": {},
   "outputs": [
    {
     "name": "stdout",
     "output_type": "stream",
     "text": [
      "WARNING:tensorflow:From c:\\users\\yj_li\\appdata\\local\\programs\\python\\python37\\lib\\site-packages\\tensorflow\\python\\ops\\math_ops.py:3066: to_int32 (from tensorflow.python.ops.math_ops) is deprecated and will be removed in a future version.\n",
      "Instructions for updating:\n",
      "Use tf.cast instead.\n",
      "Train on 2264 samples, validate on 252 samples\n",
      "Epoch 1/10\n",
      "2264/2264 [==============================] - ETA: 23s - loss: 0.7078 - acc: 0.47 - ETA: 1s - loss: 0.7081 - acc: 0.5183 - 1s 586us/step - loss: 0.7015 - acc: 0.4951 - val_loss: 7.9079 - val_acc: 0.5040\n",
      "Epoch 2/10\n",
      "2264/2264 [==============================] - ETA: 0s - loss: 0.6925 - acc: 0.520 - ETA: 0s - loss: 0.6920 - acc: 0.530 - ETA: 0s - loss: 0.6924 - acc: 0.527 - ETA: 0s - loss: 0.6902 - acc: 0.540 - 0s 94us/step - loss: 0.6890 - acc: 0.5464 - val_loss: 8.1230 - val_acc: 0.4960\n",
      "Epoch 3/10\n",
      "2264/2264 [==============================] - ETA: 0s - loss: 0.6707 - acc: 0.620 - ETA: 0s - loss: 0.6882 - acc: 0.555 - ETA: 0s - loss: 0.6883 - acc: 0.555 - 0s 76us/step - loss: 0.6895 - acc: 0.5464 - val_loss: 8.1230 - val_acc: 0.4960\n",
      "Epoch 4/10\n",
      "2264/2264 [==============================] - ETA: 0s - loss: 0.6949 - acc: 0.500 - ETA: 0s - loss: 0.6907 - acc: 0.544 - 0s 45us/step - loss: 0.6898 - acc: 0.5464 - val_loss: 8.1230 - val_acc: 0.4960\n",
      "Epoch 5/10\n",
      "2264/2264 [==============================] - ETA: 0s - loss: 0.6794 - acc: 0.590 - ETA: 0s - loss: 0.6886 - acc: 0.553 - ETA: 0s - loss: 0.6896 - acc: 0.546 - ETA: 0s - loss: 0.6888 - acc: 0.549 - 0s 85us/step - loss: 0.6894 - acc: 0.5464 - val_loss: 8.1230 - val_acc: 0.4960\n",
      "Epoch 6/10\n",
      "2264/2264 [==============================] - ETA: 0s - loss: 0.6716 - acc: 0.630 - ETA: 0s - loss: 0.6945 - acc: 0.490 - ETA: 0s - loss: 0.6927 - acc: 0.515 - 0s 65us/step - loss: 0.6914 - acc: 0.5278 - val_loss: 8.1230 - val_acc: 0.4960\n",
      "Epoch 7/10\n",
      "2264/2264 [==============================] - ETA: 0s - loss: 0.6902 - acc: 0.560 - 0s 21us/step - loss: 0.6919 - acc: 0.5464 - val_loss: 8.1230 - val_acc: 0.4960\n",
      "Epoch 8/10\n",
      "2264/2264 [==============================] - ETA: 0s - loss: 0.6864 - acc: 0.590 - ETA: 0s - loss: 0.6864 - acc: 0.562 - 0s 45us/step - loss: 0.6900 - acc: 0.5464 - val_loss: 8.1230 - val_acc: 0.4960\n",
      "Epoch 9/10\n",
      "2264/2264 [==============================] - ETA: 0s - loss: 0.6924 - acc: 0.520 - ETA: 0s - loss: 0.6908 - acc: 0.555 - ETA: 0s - loss: 0.6923 - acc: 0.505 - ETA: 0s - loss: 0.6916 - acc: 0.529 - 0s 84us/step - loss: 0.6918 - acc: 0.5287 - val_loss: 8.1230 - val_acc: 0.4960\n",
      "Epoch 10/10\n",
      "2264/2264 [==============================] - ETA: 0s - loss: 0.6883 - acc: 0.550 - ETA: 0s - loss: 0.6898 - acc: 0.546 - 0s 43us/step - loss: 0.6894 - acc: 0.5464 - val_loss: 8.1230 - val_acc: 0.4960\n",
      "2264/2264 [==============================] - ETA:  - ETA:  - ETA:  - 0s 71us/step\n",
      "252/252 [==============================] - ETA:  - 0s 112us/step\n",
      "Training accuracy: 0.5463780920834086\n",
      "Testing accuracy: 0.5039682549143595\n"
     ]
    }
   ],
   "source": [
    "# train the parameters\n",
    "history = model.fit(nx_train, y_train, epochs=10, batch_size=batch_size, validation_data=(x_test,y_test), class_weight=\"balance\")\n",
    "\n",
    "# evaluate accuracy\n",
    "train_acc = model.evaluate(nx_train, y_train, batch_size=32)[1]\n",
    "test_acc = model.evaluate(nx_test, y_test, batch_size=32)[1]\n",
    "print('Training accuracy: %s' % train_acc)\n",
    "print('Testing accuracy: %s' % test_acc)"
   ]
  },
  {
   "cell_type": "code",
   "execution_count": 49,
   "metadata": {},
   "outputs": [],
   "source": [
    "def train_and_evaluate(model, x_train, y_train, x_test, y_test, n=20):\n",
    "    train_accs = []\n",
    "    test_accs = []\n",
    "    with tqdm(total=n) as progress_bar:\n",
    "        for _ in range(n):\n",
    "            model.fit(\n",
    "                x_train, \n",
    "                y_train, \n",
    "                epochs=epochs, \n",
    "                batch_size=batch_size, \n",
    "                class_weight=\"balance\", \n",
    "                verbose=False)\n",
    "            train_accs.append(model.evaluate(x_train, y_train, batch_size=32, verbose=False)[1])\n",
    "            test_accs.append(model.evaluate(x_test, y_test, batch_size=32, verbose=False)[1])\n",
    "            progress_bar.update()\n",
    "    print('Avgerage Training Accuracy: %s' % np.average(train_accs))\n",
    "    print('Avgerage Testing Accuracy: %s' % np.average(test_accs))\n",
    "    return train_accs, test_accs"
   ]
  },
  {
   "cell_type": "code",
   "execution_count": 50,
   "metadata": {},
   "outputs": [
    {
     "name": "stderr",
     "output_type": "stream",
     "text": [
      "100%|██████████████████████████████████████████████████████████████████████████████████| 20/20 [00:16<00:00,  1.11it/s]\n"
     ]
    },
    {
     "name": "stdout",
     "output_type": "stream",
     "text": [
      "Avgerage Training Accuracy: 0.5417402828908638\n",
      "Avgerage Testing Accuracy: 0.5035714294229237\n"
     ]
    }
   ],
   "source": [
    "_, test_accs = train_and_evaluate(model, nx_train, y_train, nx_test, y_test)"
   ]
  },
  {
   "cell_type": "code",
   "execution_count": 53,
   "metadata": {},
   "outputs": [],
   "source": [
    "z_train = x_train.drop(columns = \"Volume\")\n",
    "z_test = x_test.drop(columns = \"Volume\")\n",
    "nx_train = preprocessing.normalize(z_train)\n",
    "nx_test = preprocessing.normalize(z_test)\n",
    "dim = 3"
   ]
  },
  {
   "cell_type": "code",
   "execution_count": 55,
   "metadata": {},
   "outputs": [],
   "source": [
    "# create a sequential model\n",
    "model = models.Sequential()\n",
    "\n",
    "# add the hidden layer\n",
    "model.add(layers.Dense(input_dim=dim,\n",
    "                       units=hidden_units, \n",
    "                       activation=activation))\n",
    "\n",
    "# add the output layer\n",
    "model.add(layers.Dense(input_dim=hidden_units,\n",
    "                       units=1,\n",
    "                       activation='sigmoid'))\n",
    "\n",
    "# define our loss function and optimizer\n",
    "model.compile(loss='binary_crossentropy',\n",
    "              # Adam is a kind of gradient descent\n",
    "              optimizer=optimizers.Adam(lr=learning_rate),\n",
    "              metrics=['accuracy'])"
   ]
  },
  {
   "cell_type": "code",
   "execution_count": 56,
   "metadata": {
    "scrolled": true
   },
   "outputs": [
    {
     "name": "stderr",
     "output_type": "stream",
     "text": [
      "100%|██████████████████████████████████████████████████████████████████████████████████| 20/20 [00:13<00:00,  1.30it/s]\n"
     ]
    },
    {
     "name": "stdout",
     "output_type": "stream",
     "text": [
      "Avgerage Training Accuracy: 0.5463780920834085\n",
      "Avgerage Testing Accuracy: 0.5039682549143596\n"
     ]
    }
   ],
   "source": [
    "_, test_accs = train_and_evaluate(model, nx_train, y_train, nx_test, y_test)"
   ]
  },
  {
   "cell_type": "code",
   "execution_count": 57,
   "metadata": {
    "scrolled": true
   },
   "outputs": [
    {
     "data": {
      "image/png": "[encoded data removed]",
      "text/plain": [
       "<Figure size 432x288 with 1 Axes>"
      ]
     },
     "metadata": {
      "needs_background": "light"
     },
     "output_type": "display_data"
    }
   ],
   "source": [
    "history = model.fit(\n",
    "    nx_train, y_train, epochs=epochs, batch_size=batch_size, \n",
    "    class_weight=\"balance\", verbose=False)\n",
    "losses = history.history['loss']\n",
    "plt.plot(range(len(losses)), losses, 'r')\n",
    "plt.show()"
   ]
  },
  {
   "cell_type": "markdown",
   "metadata": {},
   "source": [
    "先查看資料型態以及填補遺漏值，做SVM前先把資料做標準化，做Neural Network前，把資料做normal。\n",
    "\n",
    "本次預測結果\n",
    "\n",
    "Logistic Regression\n",
    "\n",
    "Train accuracy: 0.5463780918727915\n",
    "\n",
    "Test accuracy: 0.503968253968254\n",
    "\n",
    "---\n",
    "SVM\n",
    "\n",
    "Train accuracy = 54.64 % \n",
    "\n",
    "Test accuracy = 50.40 %\n",
    "\n",
    "---\n",
    "Neural Network\n",
    "\n",
    "Training accuracy: 0.5463780920834086\n",
    "\n",
    "Testing accuracy: 0.5039682549143595\n",
    "\n",
    "---\n",
    "原始資料三個模型跑出來的預測準確率幾乎一樣，\n",
    "\n",
    "若資料型態不同，則跑出來的結果也會不同。\n",
    "\n",
    "而經過調整後，丟棄Volume欄位(看圖形這類資料較分散)的Logistic Regression的Accuracy有更高的預測率。\n"
   ]
  }
 ],
 "metadata": {
  "kernelspec": {
   "display_name": "Python 3",
   "language": "python",
   "name": "python3"
  },
  "language_info": {
   "codemirror_mode": {
    "name": "ipython",
    "version": 3
   },
   "file_extension": ".py",
   "mimetype": "text/x-python",
   "name": "python",
   "nbconvert_exporter": "python",
   "pygments_lexer": "ipython3",
   "version": "3.7.3"
  }
 },
 "nbformat": 4,
 "nbformat_minor": 2
}
